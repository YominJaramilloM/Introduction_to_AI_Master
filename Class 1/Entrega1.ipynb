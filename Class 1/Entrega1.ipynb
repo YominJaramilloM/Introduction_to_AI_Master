{
  "nbformat": 4,
  "nbformat_minor": 0,
  "metadata": {
    "colab": {
      "provenance": []
    },
    "kernelspec": {
      "name": "python3",
      "display_name": "Python 3"
    },
    "language_info": {
      "name": "python"
    }
  },
  "cells": [
    {
      "cell_type": "code",
      "execution_count": null,
      "metadata": {
        "colab": {
          "base_uri": "https://localhost:8080/"
        },
        "id": "RvJmQlb0QUOc",
        "outputId": "adcd53a4-e9ab-40d4-8250-48ec42904e92"
      },
      "outputs": [
        {
          "output_type": "stream",
          "name": "stdout",
          "text": [
            "Actions taken: ['Right', 'Suck', 'Left', 'Right', 'Left', 'Right', 'Left', 'Right', 'Left', 'Right']\n",
            "Final world state: {'A': 'Clean', 'B': 'Clean'}\n"
          ]
        }
      ],
      "source": [
        "def action_vacuum_agent(location, status):\n",
        "    if status == \"Dirty\":\n",
        "        return \"Suck\"\n",
        "    elif location == \"A\":\n",
        "        return \"Right\"\n",
        "    elif location == \"B\":\n",
        "        return \"Left\"\n",
        "\n",
        "# Simulación del entorno de la aspiradora\n",
        "def simulate_vacuum_agent():\n",
        "    # Definimos el estado inicial\n",
        "    world = {\"A\": \"Clean\", \"B\": \"Dirty\"}  # Estado inicial: ambas celdas sucias\n",
        "    location = \"A\"  # La aspiradora empieza en la celda A\n",
        "    actions = []\n",
        "\n",
        "    for _ in range(10):  # Simulamos 10 interacciones\n",
        "        status = world[location]\n",
        "        action = action_vacuum_agent(location, status)\n",
        "        actions.append(action)\n",
        "\n",
        "        if action == \"Suck\":\n",
        "            world[location] = \"Clean\"\n",
        "        elif action == \"Right\":\n",
        "            location = \"B\"\n",
        "        elif action == \"Left\":\n",
        "            location = \"A\"\n",
        "\n",
        "    return actions, world\n",
        "\n",
        "actions, final_world_state = simulate_vacuum_agent()\n",
        "print(\"Actions taken:\", actions)\n",
        "print(\"Final world state:\", final_world_state)\n",
        "\n"
      ]
    },
    {
      "cell_type": "markdown",
      "source": [
        "**INFORME 1 -> 18.5%**\n",
        "\n",
        "A. Haga un análisis detallado del codigo anterior y relacionelo con los conceptos vistos en clase, varie los estados del mundo y mire como cambia el comportamiento ¿Tiene sentido?\n",
        "\n",
        "B. Realice el análisis del algoritmo de la aspiradora considerando un grid de 2x2, ¿Cuantos son los estados posibles para el mundo?.\n",
        "\n",
        "1. ¿Puede establecer una formula general para el número de estados para este tipo de problemas si crece el numero de grids?\n",
        "\n",
        "2. Modifique el algoritmo con el fin de responder a esta necesidad, considere 2 nuevas acciones (subir y bajar)\n",
        "\n",
        "C. Presente la solucion de las 3 actividades de la primera parte de la clase\n"
      ],
      "metadata": {
        "id": "FPcMukgUtVWz"
      }
    }
  ]
}